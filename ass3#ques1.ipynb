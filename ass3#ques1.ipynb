{
 "cells": [
  {
   "cell_type": "code",
   "execution_count": 3,
   "metadata": {},
   "outputs": [
    {
     "name": "stdout",
     "output_type": "stream",
     "text": [
      "The sum of my_list is 38\n"
     ]
    }
   ],
   "source": [
    "def sum_of_list(l,n):\n",
    "  if n == 0:\n",
    "    return l[n];\n",
    "  return l[n] + sum_of_list(l,n-1)\n",
    "\n",
    "my_list = [1,3,5,2,4,6,8,9]\n",
    "print (\"The sum of my_list is\", sum_of_list(my_list,len(my_list)-1))"
   ]
  }
 ],
 "metadata": {
  "kernelspec": {
   "display_name": "Python 3",
   "language": "python",
   "name": "python3"
  },
  "language_info": {
   "codemirror_mode": {
    "name": "ipython",
    "version": 3
   },
   "file_extension": ".py",
   "mimetype": "text/x-python",
   "name": "python",
   "nbconvert_exporter": "python",
   "pygments_lexer": "ipython3",
   "version": "3.10.10"
  },
  "orig_nbformat": 4,
  "vscode": {
   "interpreter": {
    "hash": "ad4b3edbcfd21eb1afc8aa7699c3892a5b991728f476cde614bade5337ca86b9"
   }
  }
 },
 "nbformat": 4,
 "nbformat_minor": 2
}
