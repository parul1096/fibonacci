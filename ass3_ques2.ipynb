{
 "cells": [
  {
   "cell_type": "code",
   "execution_count": 2,
   "metadata": {},
   "outputs": [
    {
     "name": "stdout",
     "output_type": "stream",
     "text": [
      "sdrawkcab ekil skool txet siht woh ,rednow I\n"
     ]
    }
   ],
   "source": [
    "def my_function(x):\n",
    "  return x[::-1]\n",
    "\n",
    "mytxt = my_function(\"I wonder, how this text looks like backwards\")\n",
    "\n",
    "print(mytxt)"
   ]
  }
 ],
 "metadata": {
  "kernelspec": {
   "display_name": "Python 3",
   "language": "python",
   "name": "python3"
  },
  "language_info": {
   "codemirror_mode": {
    "name": "ipython",
    "version": 3
   },
   "file_extension": ".py",
   "mimetype": "text/x-python",
   "name": "python",
   "nbconvert_exporter": "python",
   "pygments_lexer": "ipython3",
   "version": "3.10.10"
  },
  "orig_nbformat": 4,
  "vscode": {
   "interpreter": {
    "hash": "ad4b3edbcfd21eb1afc8aa7699c3892a5b991728f476cde614bade5337ca86b9"
   }
  }
 },
 "nbformat": 4,
 "nbformat_minor": 2
}
