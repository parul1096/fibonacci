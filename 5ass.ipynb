{
 "cells": [
  {
   "cell_type": "code",
   "execution_count": 15,
   "metadata": {},
   "outputs": [
    {
     "name": "stdout",
     "output_type": "stream",
     "text": [
      "35\n"
     ]
    }
   ],
   "source": [
    "#Challenge 1: Square Numbers and Return Their Sum\n",
    "class Point:\n",
    "\n",
    "    def __init__(self,x,y,z):\n",
    "        self.x = x\n",
    "        self.y = y\n",
    "        self.z = z\n",
    "\n",
    "    def square_sum(self):\n",
    "        sqsum = (self.x**2)+(self.y**2)+(self.z**2)\n",
    "        return sqsum\n",
    "    \n",
    "s = Point(1,3,5)\n",
    "print (s.square_sum())"
   ]
  },
  {
   "cell_type": "code",
   "execution_count": 19,
   "metadata": {},
   "outputs": [
    {
     "name": "stdout",
     "output_type": "stream",
     "text": [
      "104\n",
      "84\n",
      "940\n",
      "9.4\n"
     ]
    }
   ],
   "source": [
    "#Challenge 2: Implement a Calculator Class\n",
    "class Calculator:\n",
    "\n",
    "    def __init__(self,num1,num2):\n",
    "        self.num1 = num1\n",
    "        self.num2 = num2\n",
    "\n",
    "    def add(self): #add() is a method that returns the sum of num1 and num2.\n",
    "        add = self.num1 + self.num2\n",
    "        return add\n",
    "    \n",
    "    def subtract(self): #subtract() is a method that returns the subtraction of num1 from num2.\n",
    "        sub = self.num2 - self.num1\n",
    "        return sub\n",
    "    \n",
    "    def multiply(self): #multiply() is a method that returns the product of num1 and num2.\n",
    "        mul = self.num1 * self.num2\n",
    "        return mul\n",
    "    \n",
    "    def divide(self): #divide() is a method that returns the division of num2 by num1.\n",
    "        div = self.num2 / self.num1\n",
    "        return div\n",
    "\n",
    "c = Calculator(10,94)\n",
    "print (c.add())\n",
    "print (c.subtract())\n",
    "print (c.multiply())\n",
    "print (c.divide())"
   ]
  }
 ],
 "metadata": {
  "kernelspec": {
   "display_name": "Python 3",
   "language": "python",
   "name": "python3"
  },
  "language_info": {
   "codemirror_mode": {
    "name": "ipython",
    "version": 3
   },
   "file_extension": ".py",
   "mimetype": "text/x-python",
   "name": "python",
   "nbconvert_exporter": "python",
   "pygments_lexer": "ipython3",
   "version": "3.10.10"
  },
  "orig_nbformat": 4
 },
 "nbformat": 4,
 "nbformat_minor": 2
}
