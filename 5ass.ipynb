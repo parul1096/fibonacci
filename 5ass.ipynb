{
 "cells": [
  {
   "cell_type": "code",
   "execution_count": 2,
   "metadata": {},
   "outputs": [],
   "source": [
    "x = 1\n",
    "y = 3\n",
    "z = 5\n",
    "\n",
    "class Point:\n",
    "\n",
    "    def __init__(self):\n",
    "        self.x = x\n",
    "        self.y = y\n",
    "        self.z = z\n",
    "\n",
    "    def sqSum(self):\n",
    "        pass\n",
    "        print(\"sum of square of\" self.x,self.y,self.z \"is\" self.s)"
   ]
  },
  {
   "cell_type": "markdown",
   "metadata": {},
   "source": []
  },
  {
   "cell_type": "code",
   "execution_count": 4,
   "metadata": {},
   "outputs": [
    {
     "name": "stdout",
     "output_type": "stream",
     "text": [
      "result = 6\n",
      "result = 4\n",
      "result = 40\n",
      "result = 3.3333333333333335\n",
      "result = 1\n"
     ]
    }
   ],
   "source": [
    "class Calculator:\n",
    "    def __init__(self):\n",
    "        self.result = 1\n",
    "    def add(self,num):\n",
    "        self.result += num\n",
    "    def subtract(self,num):\n",
    "        self.result -= num\n",
    "    def multiply(self,num):\n",
    "        self.result *= num\n",
    "    def division(self,num):\n",
    "        self.result /= num\n",
    "    def reset(self):\n",
    "        self.result = 0\n",
    "    def print_result(self):\n",
    "        print(\"result =\",self.result)\n",
    "calc = Calculator()\n",
    "\n",
    "calc.add(5)\n",
    "calc.print_result()\n",
    "\n",
    "calc.subtract(2)\n",
    "calc.print_result()\n",
    "\n",
    "calc.multiply(10)\n",
    "calc.print_result()\n",
    "\n",
    "calc.division(12)\n",
    "calc.print_result()\n",
    "\n",
    "calc_1 = Calculator()\n",
    "calc_1.print_result()\n"
   ]
  }
 ],
 "metadata": {
  "kernelspec": {
   "display_name": "Python 3",
   "language": "python",
   "name": "python3"
  },
  "language_info": {
   "codemirror_mode": {
    "name": "ipython",
    "version": 3
   },
   "file_extension": ".py",
   "mimetype": "text/x-python",
   "name": "python",
   "nbconvert_exporter": "python",
   "pygments_lexer": "ipython3",
   "version": "3.10.10"
  },
  "orig_nbformat": 4
 },
 "nbformat": 4,
 "nbformat_minor": 2
}
