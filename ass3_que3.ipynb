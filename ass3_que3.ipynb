{
 "cells": [
  {
   "cell_type": "code",
   "execution_count": 8,
   "metadata": {},
   "outputs": [
    {
     "name": "stdout",
     "output_type": "stream",
     "text": [
      "The quick Brow Fox\n",
      "LowerCase letter in the String 12\n",
      "UpperCase letter in the String 3\n"
     ]
    }
   ],
   "source": [
    "x=\"The quick Brow Fox\"\n",
    "def char(x):\n",
    "  u=0\n",
    "  l=0\n",
    "  for i in x:\n",
    "      if i>='a' and i<='z':\n",
    "       l+=1\n",
    "\n",
    "      if i >='A' and i<='Z':\n",
    "       u+=1\n",
    "\n",
    "  print(x)\n",
    "  print(\"LowerCase letter in the String\",l)\n",
    "  print(\"UpperCase letter in the String\",u)\n",
    "char(x)"
   ]
  },
  {
   "cell_type": "code",
   "execution_count": 10,
   "metadata": {},
   "outputs": [
    {
     "name": "stdout",
     "output_type": "stream",
     "text": [
      "SDXVGSDVHS nhgdjsd\n",
      "LowerCase letter in the String 7\n",
      "UpperCase letter in the String 10\n"
     ]
    }
   ],
   "source": [
    "x=input(\"Enter the string:- \")\n",
    "def char(x):\n",
    "  u=0\n",
    "  l=0\n",
    "  for i in x:\n",
    "      if i>='a' and i<='z':\n",
    "       l+=1\n",
    "\n",
    "      if i >='A' and i<='Z':\n",
    "       u+=1\n",
    "\n",
    "  print (x)\n",
    "  print(\"LowerCase letter in the String\",l)\n",
    "  print(\"UpperCase letter in the String\",u)\n",
    "char(x)"
   ]
  }
 ],
 "metadata": {
  "kernelspec": {
   "display_name": "Python 3",
   "language": "python",
   "name": "python3"
  },
  "language_info": {
   "codemirror_mode": {
    "name": "ipython",
    "version": 3
   },
   "file_extension": ".py",
   "mimetype": "text/x-python",
   "name": "python",
   "nbconvert_exporter": "python",
   "pygments_lexer": "ipython3",
   "version": "3.10.10"
  },
  "orig_nbformat": 4,
  "vscode": {
   "interpreter": {
    "hash": "ad4b3edbcfd21eb1afc8aa7699c3892a5b991728f476cde614bade5337ca86b9"
   }
  }
 },
 "nbformat": 4,
 "nbformat_minor": 2
}
